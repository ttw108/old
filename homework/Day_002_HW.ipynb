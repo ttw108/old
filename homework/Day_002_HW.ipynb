{
 "cells": [
  {
   "cell_type": "code",
   "execution_count": null,
   "metadata": {},
   "outputs": [],
   "source": [
    "作業2：申論題目可直接將答案回覆在HW檔案裡面，Jupyter notebook可直接編輯文字。\n",
    "請上 Kaggle, 在 Competitions 或 Dataset 中找一組競賽或資料並寫下：\n",
    "1. 你選的這組資料為何重要\n",
    "    主要是本身為醫療影像處理工作者（放射師），用FDG正子放射性同位素名稱搜尋，期望找到可辦識的資訊。\n",
    "2. 資料從何而來 (tips: 譬如提供者是誰、以什麼方式蒐集)\n",
    "    加拿大蒙特利爾麥吉爾大學 - 醫學物理部門的MartinVallières 整理的資訊。\n",
    "3. 蒐集而來的資料型態為何\n",
    "把醫學影像格式PET/CT MRI(T1,T2) DICOM轉換成 HDF5格式檔儲存。\n",
    "另外有個list csv檔述明了病患的基本資料，惡性程度、病理切片結果等等。\n",
    "4. 這組資料想解決的問題如何評估\n",
    "利用影像訓練判別軟組織肉瘤（Soft tissue Sarcoma）的惡性程度（Grade）"
   ]
  }
 ],
 "metadata": {
  "kernelspec": {
   "display_name": "Python 3",
   "language": "python",
   "name": "python3"
  },
  "language_info": {
   "codemirror_mode": {
    "name": "ipython",
    "version": 3
   },
   "file_extension": ".py",
   "mimetype": "text/x-python",
   "name": "python",
   "nbconvert_exporter": "python",
   "pygments_lexer": "ipython3",
   "version": "3.7.3"
  }
 },
 "nbformat": 4,
 "nbformat_minor": 2
}

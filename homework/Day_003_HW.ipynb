{
 "cells": [
  {
   "cell_type": "code",
   "execution_count": null,
   "metadata": {},
   "outputs": [],
   "source": [
    "作業3：申論題目可直接將答案回覆在HW檔案裡面，Jupyter notebook可直接編輯文字。\n",
    "想像你經營一個自由載客車隊，你希望能透過數據分析以提升業績，請你思考並描述你如何規劃整體的分析/解決方案：\n",
    "1. 核心問題為何 (tips：如何定義 「提升業績 & 你的假設」)\n",
    "    可以用載客次數、月營收、成長率%等作為業積是否提升的設定\n",
    "2. 資料從何而來 (tips：哪些資料可能會對你想問的問題產生影響 & 資料如何蒐集)\n",
    "    資料可由車隊上的GPS，導入GIS。\n",
    "3. 蒐集而來的資料型態為何\n",
    "    可以是行進路徑，停留地點、停留時間、載客間隔、工作時間、工作時段、司機年齡、教育程度等等\n",
    "4. 你要回答的問題，其如何評估 (tips：你的假設如何驗證)\n",
    "    導入第3點資料做為X，然後利用第一點做為Y，利用機械學習建立模型後，再套入樣本外資料做模型驗證。"
   ]
  }
 ],
 "metadata": {
  "kernelspec": {
   "display_name": "Python 3",
   "language": "python",
   "name": "python3"
  },
  "language_info": {
   "codemirror_mode": {
    "name": "ipython",
    "version": 3
   },
   "file_extension": ".py",
   "mimetype": "text/x-python",
   "name": "python",
   "nbconvert_exporter": "python",
   "pygments_lexer": "ipython3",
   "version": "3.7.3"
  }
 },
 "nbformat": 4,
 "nbformat_minor": 2
}

{
 "cells": [
  {
   "cell_type": "markdown",
   "metadata": {},
   "source": [
    "## 練習時間\n",
    "資料的操作有很多，接下來的馬拉松中我們會介紹常被使用到的操作，參加者不妨先自行想像一下，第一次看到資料，我們一般會想知道什麼訊息？\n",
    "\n",
    "#### Ex: 如何知道資料的 row 數以及 column 數、有什麼欄位、多少欄位、如何截取部分的資料等等\n",
    "\n",
    "有了對資料的好奇之後，我們又怎麼通過程式碼來達成我們的目的呢？\n",
    "\n",
    "#### 可參考該[基礎教材](https://bookdata.readthedocs.io/en/latest/base/01_pandas.html#DataFrame-%E5%85%A5%E9%97%A8)或自行 google"
   ]
  },
  {
   "cell_type": "markdown",
   "metadata": {},
   "source": [
    "# [作業目標]\n",
    "- 熟悉更多的 Python 資料操作"
   ]
  },
  {
   "cell_type": "markdown",
   "metadata": {},
   "source": [
    "# [作業重點]\n",
    "- 列出資料的大小 (In[4], Hint : shape)\n",
    "- 列出所有欄位 (In[5], 有多種寫法)\n",
    "- 擷取部分資料 (In[6], Hint : loc 或 iloc)"
   ]
  },
  {
   "cell_type": "code",
   "execution_count": 1,
   "metadata": {},
   "outputs": [],
   "source": [
    "import os\n",
    "import numpy as np\n",
    "import pandas as pd"
   ]
  },
  {
   "cell_type": "code",
   "execution_count": 2,
   "metadata": {},
   "outputs": [],
   "source": [
    "# 設定 data_path\n",
    "dir_data = './data/'"
   ]
  },
  {
   "cell_type": "code",
   "execution_count": 3,
   "metadata": {},
   "outputs": [
    {
     "name": "stdout",
     "output_type": "stream",
     "text": [
      "Path of read in data: ./data/application_train.csv\n"
     ]
    }
   ],
   "source": [
    "f_app = os.path.join(dir_data, 'application_train.csv')\n",
    "print('Path of read in data: %s' % (f_app))\n",
    "app_train = pd.read_csv(f_app)"
   ]
  },
  {
   "cell_type": "markdown",
   "metadata": {},
   "source": [
    "### 如果沒有想法，可以先嘗試找出剛剛例子中提到的問題的答案\n",
    "#### 資料的 row 數以及 column 數"
   ]
  },
  {
   "cell_type": "code",
   "execution_count": 16,
   "metadata": {},
   "outputs": [
    {
     "name": "stdout",
     "output_type": "stream",
     "text": [
      "Row數為：307511  Column數為：122\n"
     ]
    }
   ],
   "source": [
    "app_train\n",
    "app_train.head()\n",
    "row_c=app_train.shape[0]\n",
    "col_c=app_train.shape[1]\n",
    "print(\"Row數為：\" +str(row_c) + \"  Column數為：\" + str(col_c))"
   ]
  },
  {
   "cell_type": "markdown",
   "metadata": {},
   "source": [
    "#### 列出所有欄位"
   ]
  },
  {
   "cell_type": "code",
   "execution_count": 17,
   "metadata": {},
   "outputs": [
    {
     "data": {
      "text/plain": [
       "Index(['SK_ID_CURR', 'TARGET', 'NAME_CONTRACT_TYPE', 'CODE_GENDER',\n",
       "       'FLAG_OWN_CAR', 'FLAG_OWN_REALTY', 'CNT_CHILDREN', 'AMT_INCOME_TOTAL',\n",
       "       'AMT_CREDIT', 'AMT_ANNUITY',\n",
       "       ...\n",
       "       'FLAG_DOCUMENT_18', 'FLAG_DOCUMENT_19', 'FLAG_DOCUMENT_20',\n",
       "       'FLAG_DOCUMENT_21', 'AMT_REQ_CREDIT_BUREAU_HOUR',\n",
       "       'AMT_REQ_CREDIT_BUREAU_DAY', 'AMT_REQ_CREDIT_BUREAU_WEEK',\n",
       "       'AMT_REQ_CREDIT_BUREAU_MON', 'AMT_REQ_CREDIT_BUREAU_QRT',\n",
       "       'AMT_REQ_CREDIT_BUREAU_YEAR'],\n",
       "      dtype='object', length=122)"
      ]
     },
     "execution_count": 17,
     "metadata": {},
     "output_type": "execute_result"
    }
   ],
   "source": [
    "app_train.columns"
   ]
  },
  {
   "cell_type": "markdown",
   "metadata": {},
   "source": [
    "#### 截取部分資料"
   ]
  },
  {
   "cell_type": "code",
   "execution_count": 21,
   "metadata": {},
   "outputs": [
    {
     "data": {
      "text/plain": [
       "SK_ID_CURR                100003\n",
       "TARGET                         0\n",
       "NAME_CONTRACT_TYPE    Cash loans\n",
       "CODE_GENDER                    F\n",
       "FLAG_OWN_CAR                   N\n",
       "Name: 1, dtype: object"
      ]
     },
     "execution_count": 21,
     "metadata": {},
     "output_type": "execute_result"
    }
   ],
   "source": [
    "app_train.loc[1][0:5]"
   ]
  },
  {
   "cell_type": "markdown",
   "metadata": {},
   "source": [
    "#### 還有各種數之不盡的資料操作，重點還是取決於實務中遇到的狀況和你想問的問題，在馬拉松中我們也會陸續提到更多例子"
   ]
  },
  {
   "cell_type": "code",
   "execution_count": 25,
   "metadata": {},
   "outputs": [
    {
     "data": {
      "text/plain": [
       "0              Cash loans\n",
       "1              Cash loans\n",
       "2         Revolving loans\n",
       "3              Cash loans\n",
       "4              Cash loans\n",
       "5              Cash loans\n",
       "6              Cash loans\n",
       "7              Cash loans\n",
       "8              Cash loans\n",
       "9         Revolving loans\n",
       "10             Cash loans\n",
       "11             Cash loans\n",
       "12             Cash loans\n",
       "13             Cash loans\n",
       "14             Cash loans\n",
       "15             Cash loans\n",
       "16             Cash loans\n",
       "17        Revolving loans\n",
       "18        Revolving loans\n",
       "19             Cash loans\n",
       "20        Revolving loans\n",
       "21             Cash loans\n",
       "22             Cash loans\n",
       "23             Cash loans\n",
       "24             Cash loans\n",
       "25             Cash loans\n",
       "26             Cash loans\n",
       "27             Cash loans\n",
       "28             Cash loans\n",
       "29        Revolving loans\n",
       "               ...       \n",
       "307481         Cash loans\n",
       "307482         Cash loans\n",
       "307483         Cash loans\n",
       "307484         Cash loans\n",
       "307485    Revolving loans\n",
       "307486         Cash loans\n",
       "307487         Cash loans\n",
       "307488         Cash loans\n",
       "307489         Cash loans\n",
       "307490         Cash loans\n",
       "307491         Cash loans\n",
       "307492         Cash loans\n",
       "307493         Cash loans\n",
       "307494         Cash loans\n",
       "307495         Cash loans\n",
       "307496    Revolving loans\n",
       "307497         Cash loans\n",
       "307498         Cash loans\n",
       "307499         Cash loans\n",
       "307500         Cash loans\n",
       "307501         Cash loans\n",
       "307502         Cash loans\n",
       "307503         Cash loans\n",
       "307504         Cash loans\n",
       "307505         Cash loans\n",
       "307506         Cash loans\n",
       "307507         Cash loans\n",
       "307508         Cash loans\n",
       "307509         Cash loans\n",
       "307510         Cash loans\n",
       "Name: NAME_CONTRACT_TYPE, Length: 307511, dtype: object"
      ]
     },
     "execution_count": 25,
     "metadata": {},
     "output_type": "execute_result"
    }
   ],
   "source": [
    "app_train['NAME_CONTRACT_TYPE']"
   ]
  }
 ],
 "metadata": {
  "kernelspec": {
   "display_name": "Python 3",
   "language": "python",
   "name": "python3"
  },
  "language_info": {
   "codemirror_mode": {
    "name": "ipython",
    "version": 3
   },
   "file_extension": ".py",
   "mimetype": "text/x-python",
   "name": "python",
   "nbconvert_exporter": "python",
   "pygments_lexer": "ipython3",
   "version": "3.7.3"
  }
 },
 "nbformat": 4,
 "nbformat_minor": 2
}
